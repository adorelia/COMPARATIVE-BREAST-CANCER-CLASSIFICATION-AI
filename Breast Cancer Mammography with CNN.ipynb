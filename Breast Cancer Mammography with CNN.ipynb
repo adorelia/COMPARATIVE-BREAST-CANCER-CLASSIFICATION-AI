{
 "cells": [
  {
   "cell_type": "markdown",
   "id": "b132b545",
   "metadata": {},
   "source": [
    "# Convolutional Neural Networks (CNN)\n",
    "\n",
    "Mammography Image Dataset"
   ]
  },
  {
   "cell_type": "code",
   "execution_count": 1,
   "id": "237f0e8f",
   "metadata": {},
   "outputs": [],
   "source": [
    "import os\n",
    "\n",
    "data_path = \"C:/Users/Hp/MACHINE LEARNING/Lab/ML PROJECT/NEWDATA/Dataset of Mammography with Benign Malignant Breast Masses/INbreast+MIAS+DDSM Dataset\"\n",
    "benign_path = os.path.join(data_path, \"Benign Masses\")\n",
    "malignant_path = os.path.join(data_path, \"Malignant Masses\")"
   ]
  },
  {
   "cell_type": "code",
   "execution_count": 2,
   "id": "21895bd0",
   "metadata": {},
   "outputs": [],
   "source": [
    "import cv2\n",
    "from tqdm import tqdm\n",
    "\n",
    "def load_images(folder_path, label):\n",
    "    images = []\n",
    "    labels = []\n",
    "    for filename in tqdm(os.listdir(folder_path)):\n",
    "        img_path = os.path.join(folder_path, filename)\n",
    "        img = cv2.imread(img_path)\n",
    "        img = cv2.resize(img, (64, 64))  # Resize the image as needed\n",
    "        images.append(img)\n",
    "        labels.append(label)\n",
    "    return images, labels"
   ]
  },
  {
   "cell_type": "code",
   "execution_count": 3,
   "id": "8d2847ab",
   "metadata": {
    "scrolled": false
   },
   "outputs": [
    {
     "name": "stderr",
     "output_type": "stream",
     "text": [
      "100%|██████████| 10866/10866 [00:10<00:00, 997.44it/s] \n",
      "100%|██████████| 13710/13710 [00:12<00:00, 1070.41it/s]\n"
     ]
    }
   ],
   "source": [
    "benign_images, benign_labels = load_images(benign_path, \"Benign Masses\")\n",
    "malignant_images, malignant_labels = load_images(malignant_path, \"Malignant Masses\")"
   ]
  },
  {
   "cell_type": "code",
   "execution_count": 4,
   "id": "504a847c",
   "metadata": {},
   "outputs": [],
   "source": [
    "all_images = benign_images + malignant_images\n",
    "all_labels = benign_labels + malignant_labels"
   ]
  },
  {
   "cell_type": "code",
   "execution_count": 5,
   "id": "0b0242de",
   "metadata": {},
   "outputs": [],
   "source": [
    "import numpy as np\n",
    "\n",
    "X = np.array(all_images)\n",
    "y = np.array(all_labels)"
   ]
  },
  {
   "cell_type": "code",
   "execution_count": 6,
   "id": "85eee935",
   "metadata": {},
   "outputs": [
    {
     "data": {
      "text/plain": [
       "array(['Benign Masses', 'Malignant Masses'], dtype='<U16')"
      ]
     },
     "execution_count": 6,
     "metadata": {},
     "output_type": "execute_result"
    }
   ],
   "source": [
    "np.unique(y)"
   ]
  },
  {
   "cell_type": "code",
   "execution_count": 7,
   "id": "63cb9358",
   "metadata": {},
   "outputs": [
    {
     "name": "stderr",
     "output_type": "stream",
     "text": [
      "C:\\Users\\Hp\\AppData\\Local\\Temp\\ipykernel_7536\\1149944248.py:1: DeprecationWarning: \n",
      "Pyarrow will become a required dependency of pandas in the next major release of pandas (pandas 3.0),\n",
      "(to allow more performant data types, such as the Arrow string type, and better interoperability with other libraries)\n",
      "but was not found to be installed on your system.\n",
      "If this would cause problems for you,\n",
      "please provide us feedback at https://github.com/pandas-dev/pandas/issues/54466\n",
      "        \n",
      "  import pandas as pd\n"
     ]
    },
    {
     "data": {
      "text/plain": [
       "Malignant Masses    13710\n",
       "Benign Masses       10866\n",
       "Name: count, dtype: int64"
      ]
     },
     "execution_count": 7,
     "metadata": {},
     "output_type": "execute_result"
    }
   ],
   "source": [
    "import pandas as pd\n",
    "\n",
    "pd.Series(y).value_counts()"
   ]
  },
  {
   "cell_type": "code",
   "execution_count": 8,
   "id": "05fce14c",
   "metadata": {},
   "outputs": [],
   "source": [
    "from sklearn.model_selection import train_test_split\n",
    "\n",
    "x_train, x_test, y_train, y_test = train_test_split(X, y, random_state=42, test_size=0.2)"
   ]
  },
  {
   "cell_type": "code",
   "execution_count": 9,
   "id": "5e19d053",
   "metadata": {},
   "outputs": [],
   "source": [
    "# Remove the channel dimension from x_train and x_test\n",
    "x_train = x_train[:, :, :, 0]  # Select only the first channel (or any other channel)\n",
    "x_test = x_test[:, :, :, 0]    # Select only the first channel (or any other channel)"
   ]
  },
  {
   "cell_type": "code",
   "execution_count": 10,
   "id": "cdcc8520",
   "metadata": {},
   "outputs": [
    {
     "name": "stdout",
     "output_type": "stream",
     "text": [
      "Shape of x_train: (19660, 64, 64)\n",
      "Shape of y_train: (19660,)\n",
      "\n",
      "Shape of x_test: (4916, 64, 64)\n",
      "Shape of y_test: (4916,)\n"
     ]
    }
   ],
   "source": [
    "# Mengimpor library dan fungsi yang diperlukan untuk membangun model CNN.\n",
    "import tensorflow.keras\n",
    "from tensorflow.keras.callbacks import EarlyStopping\n",
    "from tensorflow.keras.layers import Dense, Dropout\n",
    "from tensorflow.keras import regularizers\n",
    "from tensorflow.keras.datasets import mnist\n",
    "\n",
    "# Menampilkan bentuk data latih dan data uji untuk memeriksa apakah dimensinya sesuai.\n",
    "print(\"Shape of x_train: {}\".format(x_train.shape))\n",
    "print(\"Shape of y_train: {}\".format(y_train.shape))\n",
    "print()\n",
    "print(\"Shape of x_test: {}\".format(x_test.shape))\n",
    "print(\"Shape of y_test: {}\".format(y_test.shape))"
   ]
  },
  {
   "cell_type": "markdown",
   "id": "70ce8dbc",
   "metadata": {},
   "source": [
    "2. Display the Digits"
   ]
  },
  {
   "cell_type": "code",
   "execution_count": 11,
   "id": "e9e5c901",
   "metadata": {},
   "outputs": [
    {
     "name": "stdout",
     "output_type": "stream",
     "text": [
      "Shape for dataset: (19660, 64, 64)\n",
      "Labels: ['Benign Masses' 'Benign Masses' 'Benign Masses' ... 'Benign Masses'\n",
      " 'Malignant Masses' 'Malignant Masses']\n",
      "Shape for single: (64, 64)\n"
     ]
    },
    {
     "data": {
      "text/html": [
       "<div>\n",
       "<style scoped>\n",
       "    .dataframe tbody tr th:only-of-type {\n",
       "        vertical-align: middle;\n",
       "    }\n",
       "\n",
       "    .dataframe tbody tr th {\n",
       "        vertical-align: top;\n",
       "    }\n",
       "\n",
       "    .dataframe thead th {\n",
       "        text-align: right;\n",
       "    }\n",
       "</style>\n",
       "<table border=\"1\" class=\"dataframe\">\n",
       "  <thead>\n",
       "    <tr style=\"text-align: right;\">\n",
       "      <th></th>\n",
       "      <th>0</th>\n",
       "      <th>1</th>\n",
       "      <th>2</th>\n",
       "      <th>3</th>\n",
       "      <th>4</th>\n",
       "      <th>5</th>\n",
       "      <th>6</th>\n",
       "      <th>...</th>\n",
       "      <th>57</th>\n",
       "      <th>58</th>\n",
       "      <th>59</th>\n",
       "      <th>60</th>\n",
       "      <th>61</th>\n",
       "      <th>62</th>\n",
       "      <th>63</th>\n",
       "    </tr>\n",
       "  </thead>\n",
       "  <tbody>\n",
       "    <tr>\n",
       "      <th>0</th>\n",
       "      <td>0</td>\n",
       "      <td>0</td>\n",
       "      <td>0</td>\n",
       "      <td>0</td>\n",
       "      <td>0</td>\n",
       "      <td>0</td>\n",
       "      <td>0</td>\n",
       "      <td>...</td>\n",
       "      <td>0</td>\n",
       "      <td>0</td>\n",
       "      <td>0</td>\n",
       "      <td>0</td>\n",
       "      <td>0</td>\n",
       "      <td>0</td>\n",
       "      <td>0</td>\n",
       "    </tr>\n",
       "    <tr>\n",
       "      <th>1</th>\n",
       "      <td>0</td>\n",
       "      <td>0</td>\n",
       "      <td>0</td>\n",
       "      <td>0</td>\n",
       "      <td>0</td>\n",
       "      <td>0</td>\n",
       "      <td>0</td>\n",
       "      <td>...</td>\n",
       "      <td>0</td>\n",
       "      <td>0</td>\n",
       "      <td>0</td>\n",
       "      <td>0</td>\n",
       "      <td>0</td>\n",
       "      <td>0</td>\n",
       "      <td>0</td>\n",
       "    </tr>\n",
       "    <tr>\n",
       "      <th>...</th>\n",
       "      <td>...</td>\n",
       "      <td>...</td>\n",
       "      <td>...</td>\n",
       "      <td>...</td>\n",
       "      <td>...</td>\n",
       "      <td>...</td>\n",
       "      <td>...</td>\n",
       "      <td>...</td>\n",
       "      <td>...</td>\n",
       "      <td>...</td>\n",
       "      <td>...</td>\n",
       "      <td>...</td>\n",
       "      <td>...</td>\n",
       "      <td>...</td>\n",
       "      <td>...</td>\n",
       "    </tr>\n",
       "    <tr>\n",
       "      <th>62</th>\n",
       "      <td>0</td>\n",
       "      <td>0</td>\n",
       "      <td>0</td>\n",
       "      <td>0</td>\n",
       "      <td>0</td>\n",
       "      <td>0</td>\n",
       "      <td>0</td>\n",
       "      <td>...</td>\n",
       "      <td>0</td>\n",
       "      <td>0</td>\n",
       "      <td>0</td>\n",
       "      <td>0</td>\n",
       "      <td>0</td>\n",
       "      <td>0</td>\n",
       "      <td>0</td>\n",
       "    </tr>\n",
       "    <tr>\n",
       "      <th>63</th>\n",
       "      <td>0</td>\n",
       "      <td>0</td>\n",
       "      <td>0</td>\n",
       "      <td>0</td>\n",
       "      <td>0</td>\n",
       "      <td>0</td>\n",
       "      <td>0</td>\n",
       "      <td>...</td>\n",
       "      <td>0</td>\n",
       "      <td>0</td>\n",
       "      <td>0</td>\n",
       "      <td>0</td>\n",
       "      <td>0</td>\n",
       "      <td>0</td>\n",
       "      <td>0</td>\n",
       "    </tr>\n",
       "  </tbody>\n",
       "</table>\n",
       "<p>64 rows × 64 columns</p>\n",
       "</div>"
      ],
      "text/plain": [
       "    0   1   2   3   4   5   6   ...  57  58  59  60  61  62  63\n",
       "0    0   0   0   0   0   0   0  ...   0   0   0   0   0   0   0\n",
       "1    0   0   0   0   0   0   0  ...   0   0   0   0   0   0   0\n",
       "..  ..  ..  ..  ..  ..  ..  ..  ...  ..  ..  ..  ..  ..  ..  ..\n",
       "62   0   0   0   0   0   0   0  ...   0   0   0   0   0   0   0\n",
       "63   0   0   0   0   0   0   0  ...   0   0   0   0   0   0   0\n",
       "\n",
       "[64 rows x 64 columns]"
      ]
     },
     "execution_count": 11,
     "metadata": {},
     "output_type": "execute_result"
    }
   ],
   "source": [
    "from IPython.display import display\n",
    "import pandas as pd\n",
    "\n",
    "# Display as text\n",
    "pd.set_option('display.max_columns', 15)\n",
    "pd.set_option('display.max_rows', 5)\n",
    "\n",
    "print(\"Shape for dataset: {}\".format(x_train.shape))\n",
    "print(\"Labels: {}\".format(y_train))\n",
    "\n",
    "# Single MNIST digit\n",
    "single = x_train[0]\n",
    "print(\"Shape for single: {}\".format(single.shape))\n",
    "\n",
    "pd.DataFrame(single.reshape(64,64))"
   ]
  },
  {
   "cell_type": "markdown",
   "id": "7af338bb",
   "metadata": {},
   "source": [
    "3. Let's display as image"
   ]
  },
  {
   "cell_type": "code",
   "execution_count": 12,
   "id": "f2ef4177",
   "metadata": {},
   "outputs": [
    {
     "name": "stdout",
     "output_type": "stream",
     "text": [
      "Image (#140): Which is digit 'Malignant Masses'\n"
     ]
    },
    {
     "data": {
      "image/png": "[encoded data removed]",
      "text/plain": [
       "<Figure size 640x480 with 1 Axes>"
      ]
     },
     "metadata": {},
     "output_type": "display_data"
    }
   ],
   "source": [
    "# Display as image\n",
    "%matplotlib inline\n",
    "import matplotlib.pyplot as plt\n",
    "import numpy as np\n",
    "digit = 140 # Change to choose new digit\n",
    "a = x_train[digit]\n",
    "plt.imshow(a, cmap='gray', interpolation='nearest')\n",
    "print(\"Image (#{}): Which is digit '{}'\".format(digit,y_train[digit]))"
   ]
  },
  {
   "cell_type": "markdown",
   "id": "beb94295",
   "metadata": {},
   "source": [
    "4. We can show the dataset with random. Using random library to show the figure"
   ]
  },
  {
   "cell_type": "code",
   "execution_count": 13,
   "id": "01f54c71",
   "metadata": {},
   "outputs": [
    {
     "data": {
      "text/plain": [
       "<Figure size 640x480 with 0 Axes>"
      ]
     },
     "metadata": {},
     "output_type": "display_data"
    },
    {
     "data": {
      "image/png": "[encoded data removed]",
      "text/plain": [
       "<Figure size 600x600 with 36 Axes>"
      ]
     },
     "metadata": {},
     "output_type": "display_data"
    }
   ],
   "source": [
    "import random\n",
    "\n",
    "ROWS = 6\n",
    "random_indices = random.sample(range(x_train.shape[0]), ROWS*ROWS)\n",
    "\n",
    "sample_images = x_train[random_indices, :]\n",
    "\n",
    "plt.clf()\n",
    "\n",
    "fig, axes = plt.subplots(ROWS,ROWS,\n",
    "                         figsize=(ROWS,ROWS),\n",
    "                         sharex=True, sharey=True)\n",
    "\n",
    "for i in range(ROWS*ROWS):\n",
    "    subplot_row = i//ROWS\n",
    "    subplot_col = i%ROWS\n",
    "    ax = axes[subplot_row, subplot_col]\n",
    "\n",
    "    plottable_image = np.reshape(sample_images[i,:], (64,64))\n",
    "    ax.imshow(plottable_image, cmap='gray_r')\n",
    "\n",
    "    ax.set_xbound([0,100])\n",
    "\n",
    "plt.tight_layout()\n",
    "plt.show()"
   ]
  },
  {
   "cell_type": "markdown",
   "id": "f67b4532",
   "metadata": {},
   "source": [
    "5. Split the data and input the parameter of CNN algorithm before make a model (train the data)\n",
    "\n",
    "The parameters are :\n",
    "\n",
    "    ● Batch size : 128\n",
    "    \n",
    "    ● Epoch : 12 epoch\n",
    "    \n",
    "    ● Number of classes = 10 class\n",
    "    \n",
    "    ● Picture size : 28x28\n",
    "    \n",
    "    ● Data type of training and testing : floating number\n",
    "    \n",
    "    ● Activated function : ReLu\n",
    "    \n",
    "    ● Model compiling optimizer : ADAM optimizer"
   ]
  },
  {
   "cell_type": "code",
   "execution_count": 14,
   "id": "3fa8a337",
   "metadata": {},
   "outputs": [
    {
     "name": "stdout",
     "output_type": "stream",
     "text": [
      "x_train shape: (19660, 64, 64, 1)\n",
      "Training samples: 19660\n",
      "Test samples: 4916\n"
     ]
    }
   ],
   "source": [
    "import tensorflow.keras\n",
    "from tensorflow.keras.datasets import mnist \n",
    "from tensorflow.keras.models import Sequential \n",
    "from tensorflow.keras. layers import Dense, Dropout, Flatten \n",
    "from tensorflow. keras.layers import Conv2D, MaxPooling2D \n",
    "from tensorflow.keras import backend as K\n",
    "batch_size = 128\n",
    "num_classes = 10\n",
    "epochs = 12\n",
    "# input image dimensions \n",
    "img_rows, img_cols = 64, 64\n",
    "if K.image_data_format() == 'channels_first':\n",
    "    x_train = x_train.reshape(x_train. shape[0], 1, img_rows, img_cols)\n",
    "    x_test = x_test.reshape(x_test.shape[0], 1, img_rows, img_cols)\n",
    "    input_shape = (1, img_rows, img_cols)\n",
    "else:\n",
    "    x_train = x_train.reshape(x_train.shape[0], img_rows, img_cols, 1)\n",
    "    x_test = x_test.reshape(x_test.shape[0], img_rows, img_cols, 1)\n",
    "    input_shape = (img_rows, img_cols, 1)\n",
    "x_train = x_train.astype('float32')\n",
    "x_test = x_test.astype('float32')\n",
    "# Normalize the data\n",
    "x_train /= 255\n",
    "x_test /= 255\n",
    "print ('x_train shape:', x_train.shape)\n",
    "print (\"Training samples: {}\".format(x_train.shape[0]))\n",
    "print (\"Test samples: {}\". format(x_test.shape[0]))"
   ]
  },
  {
   "cell_type": "code",
   "execution_count": 15,
   "id": "9e5d5f06",
   "metadata": {},
   "outputs": [],
   "source": [
    "from sklearn.preprocessing import LabelEncoder\n",
    "\n",
    "# Encode class labels into integers\n",
    "label_encoder = LabelEncoder()\n",
    "y_train_encoded = label_encoder.fit_transform(y_train)\n",
    "y_test_encoded = label_encoder.transform(y_test)"
   ]
  },
  {
   "cell_type": "markdown",
   "id": "dfd52e6a",
   "metadata": {},
   "source": [
    "# MODELLING "
   ]
  },
  {
   "cell_type": "code",
   "execution_count": 16,
   "id": "0577dd28",
   "metadata": {},
   "outputs": [],
   "source": [
    "# Convert class vectors to binary class matrices\n",
    "y_train = tensorflow.keras.utils.to_categorical(y_train_encoded, num_classes)\n",
    "y_test = tensorflow.keras.utils.to_categorical(y_test_encoded, num_classes)\n",
    "model = Sequential()\n",
    "model.add(Conv2D (32, kernel_size=(3, 3),\n",
    "                  activation='relu',\n",
    "                  input_shape=input_shape))\n",
    "model.add(Conv2D (64, (3, 3), activation='relu'))\n",
    "model.add(MaxPooling2D (pool_size= (2, 2)))\n",
    "model.add(Dropout(0.25))\n",
    "model.add(Flatten())\n",
    "model.add(Dense(128, activation='relu'))\n",
    "model.add(Dropout(0.5))\n",
    "model.add(Dense(num_classes, activation='softmax'))\n",
    "model.compile(loss='categorical_crossentropy', optimizer='adam',\n",
    "              metrics=['accuracy'])"
   ]
  },
  {
   "cell_type": "markdown",
   "id": "40caa5e1",
   "metadata": {},
   "source": [
    "6. Training the CNN – DIGITS datasets. This can take awhile"
   ]
  },
  {
   "cell_type": "code",
   "execution_count": 17,
   "id": "e9393660",
   "metadata": {},
   "outputs": [
    {
     "name": "stdout",
     "output_type": "stream",
     "text": [
      "Epoch 1/12\n",
      "154/154 - 92s - loss: 0.5344 - accuracy: 0.7394 - val_loss: 0.3575 - val_accuracy: 0.8275 - 92s/epoch - 598ms/step\n",
      "Epoch 2/12\n",
      "154/154 - 83s - loss: 0.3624 - accuracy: 0.8256 - val_loss: 0.3139 - val_accuracy: 0.8432 - 83s/epoch - 541ms/step\n",
      "Epoch 3/12\n",
      "154/154 - 88s - loss: 0.3218 - accuracy: 0.8395 - val_loss: 0.2932 - val_accuracy: 0.8537 - 88s/epoch - 568ms/step\n",
      "Epoch 4/12\n",
      "154/154 - 71s - loss: 0.2944 - accuracy: 0.8523 - val_loss: 0.2904 - val_accuracy: 0.8578 - 71s/epoch - 463ms/step\n",
      "Epoch 5/12\n",
      "154/154 - 71s - loss: 0.2758 - accuracy: 0.8622 - val_loss: 0.2683 - val_accuracy: 0.8653 - 71s/epoch - 462ms/step\n",
      "Epoch 6/12\n",
      "154/154 - 85s - loss: 0.2555 - accuracy: 0.8748 - val_loss: 0.2462 - val_accuracy: 0.8773 - 85s/epoch - 549ms/step\n",
      "Epoch 7/12\n",
      "154/154 - 81s - loss: 0.2360 - accuracy: 0.8879 - val_loss: 0.2441 - val_accuracy: 0.8782 - 81s/epoch - 527ms/step\n",
      "Epoch 8/12\n",
      "154/154 - 86s - loss: 0.2142 - accuracy: 0.8995 - val_loss: 0.2063 - val_accuracy: 0.9054 - 86s/epoch - 555ms/step\n",
      "Epoch 9/12\n",
      "154/154 - 80s - loss: 0.1867 - accuracy: 0.9158 - val_loss: 0.1937 - val_accuracy: 0.9135 - 80s/epoch - 519ms/step\n",
      "Epoch 10/12\n",
      "154/154 - 73s - loss: 0.1715 - accuracy: 0.9243 - val_loss: 0.1862 - val_accuracy: 0.9201 - 73s/epoch - 471ms/step\n",
      "Epoch 11/12\n",
      "154/154 - 85s - loss: 0.1559 - accuracy: 0.9349 - val_loss: 0.1758 - val_accuracy: 0.9312 - 85s/epoch - 554ms/step\n",
      "Epoch 12/12\n",
      "154/154 - 73s - loss: 0.1334 - accuracy: 0.9458 - val_loss: 0.1549 - val_accuracy: 0.9400 - 73s/epoch - 473ms/step\n",
      "Test loss: 0.15488389134407043\n",
      "Test accuracy: 0.9399918913841248\n",
      "Elapsed time: {} 974.4412961006165\n"
     ]
    }
   ],
   "source": [
    "import tensorflow as tf\n",
    "import time\n",
    "\n",
    "start_time = time.time()\n",
    "\n",
    "model.fit(x_train, y_train,\n",
    "          batch_size=batch_size,\n",
    "          epochs=epochs,\n",
    "          verbose=2,\n",
    "          validation_data=(x_test, y_test))\n",
    "score = model.evaluate(x_test, y_test, verbose=0)\n",
    "print('Test loss: {}'.format(score[0]))\n",
    "print('Test accuracy: {}'.format(score[1]))\n",
    "\n",
    "elapsed_time = time.time() - start_time\n",
    "print(\"Elapsed time: {}\", elapsed_time)"
   ]
  },
  {
   "cell_type": "markdown",
   "id": "6e64aa18",
   "metadata": {},
   "source": [
    "7. Evaluate accuracy from DIGITS dataset"
   ]
  },
  {
   "cell_type": "code",
   "execution_count": 18,
   "id": "9caaa1d1",
   "metadata": {},
   "outputs": [
    {
     "name": "stdout",
     "output_type": "stream",
     "text": [
      "Test loss: 0.15488389134407043\n",
      "Test accuracy: 0.9399918913841248\n"
     ]
    }
   ],
   "source": [
    "# Set the desired TensorFlow output level\n",
    "score = model.evaluate(x_test, y_test, verbose=0)\n",
    "print('Test loss: {}'.format(score[0]))\n",
    "print('Test accuracy: {}'.format(score[1]))"
   ]
  },
  {
   "cell_type": "code",
   "execution_count": 19,
   "id": "ef3b3e78",
   "metadata": {},
   "outputs": [
    {
     "name": "stdout",
     "output_type": "stream",
     "text": [
      "4/4 [==============================] - 1s 37ms/step\n",
      "Accuracy: 0.9595959595959596\n"
     ]
    }
   ],
   "source": [
    "from sklearn import metrics\n",
    "\n",
    "small_x = x_test[1:100]\n",
    "small_y = y_test[1:100]\n",
    "small_y2 = np.argmax(small_y,axis=1)\n",
    "pred = model.predict(small_x)\n",
    "pred = np.argmax(pred,axis=1)\n",
    "score = metrics.accuracy_score(small_y2, pred)\n",
    "print('Accuracy: {}'.format(score))"
   ]
  },
  {
   "cell_type": "markdown",
   "id": "000a8d3e",
   "metadata": {},
   "source": [
    "# STRATIFIED K-FOLD CROSS VALIDATION"
   ]
  },
  {
   "cell_type": "code",
   "execution_count": 41,
   "id": "37cb7e32",
   "metadata": {},
   "outputs": [],
   "source": [
    "from sklearn.model_selection import train_test_split, StratifiedKFold\n",
    "\n",
    "k = 5\n",
    "skf = StratifiedKFold(n_splits=k, shuffle=True, random_state=None)\n",
    "cvscores = []"
   ]
  },
  {
   "cell_type": "code",
   "execution_count": 47,
   "id": "d770c772",
   "metadata": {},
   "outputs": [
    {
     "name": "stdout",
     "output_type": "stream",
     "text": [
      "Epoch 1/15\n",
      "492/492 [==============================] - 79s 160ms/step - loss: 0.6900 - accuracy: 0.5477 - val_loss: 0.6872 - val_accuracy: 0.5577\n",
      "Epoch 2/15\n",
      "492/492 [==============================] - 96s 195ms/step - loss: 0.6893 - accuracy: 0.5498 - val_loss: 0.6893 - val_accuracy: 0.5577\n",
      "Epoch 3/15\n",
      "492/492 [==============================] - 82s 167ms/step - loss: 0.6884 - accuracy: 0.5497 - val_loss: 0.6866 - val_accuracy: 0.5577\n",
      "Epoch 4/15\n",
      "492/492 [==============================] - 90s 183ms/step - loss: 0.6901 - accuracy: 0.5485 - val_loss: 0.6887 - val_accuracy: 0.5577\n",
      "Epoch 5/15\n",
      "492/492 [==============================] - 84s 171ms/step - loss: 0.6894 - accuracy: 0.5505 - val_loss: 0.6890 - val_accuracy: 0.5577\n",
      "Epoch 6/15\n",
      "492/492 [==============================] - 77s 156ms/step - loss: 0.6895 - accuracy: 0.5507 - val_loss: 0.6923 - val_accuracy: 0.5577\n",
      "Fold accuracy: 55.77314496040344%\n",
      "Epoch 1/15\n",
      "492/492 [==============================] - 94s 192ms/step - loss: 0.6892 - accuracy: 0.5518 - val_loss: 0.6884 - val_accuracy: 0.5577\n",
      "Epoch 2/15\n",
      "492/492 [==============================] - 76s 155ms/step - loss: 0.6896 - accuracy: 0.5490 - val_loss: 0.6870 - val_accuracy: 0.5577\n",
      "Epoch 3/15\n",
      "492/492 [==============================] - 77s 156ms/step - loss: 0.6897 - accuracy: 0.5476 - val_loss: 0.6874 - val_accuracy: 0.5577\n",
      "Epoch 4/15\n",
      "492/492 [==============================] - 91s 184ms/step - loss: 0.6898 - accuracy: 0.5504 - val_loss: 0.6915 - val_accuracy: 0.5577\n",
      "Epoch 5/15\n",
      "492/492 [==============================] - 81s 165ms/step - loss: 0.6903 - accuracy: 0.5484 - val_loss: 0.6865 - val_accuracy: 0.5577\n",
      "Epoch 6/15\n",
      "492/492 [==============================] - 91s 184ms/step - loss: 0.6893 - accuracy: 0.5502 - val_loss: 0.6868 - val_accuracy: 0.5577\n",
      "Epoch 7/15\n",
      "492/492 [==============================] - 79s 160ms/step - loss: 0.6900 - accuracy: 0.5519 - val_loss: 0.6866 - val_accuracy: 0.5577\n",
      "Epoch 8/15\n",
      "492/492 [==============================] - 92s 187ms/step - loss: 0.6887 - accuracy: 0.5500 - val_loss: 0.6933 - val_accuracy: 0.5577\n",
      "Fold accuracy: 55.77314496040344%\n",
      "Epoch 1/15\n",
      "492/492 [==============================] - 91s 184ms/step - loss: 0.6891 - accuracy: 0.5510 - val_loss: 0.6866 - val_accuracy: 0.5580\n",
      "Epoch 2/15\n",
      "492/492 [==============================] - 81s 164ms/step - loss: 0.6891 - accuracy: 0.5486 - val_loss: 0.6868 - val_accuracy: 0.5580\n",
      "Epoch 3/15\n",
      "492/492 [==============================] - 92s 187ms/step - loss: 0.6901 - accuracy: 0.5512 - val_loss: 0.6865 - val_accuracy: 0.5580\n",
      "Epoch 4/15\n",
      "492/492 [==============================] - 85s 172ms/step - loss: 0.6890 - accuracy: 0.5538 - val_loss: 0.6868 - val_accuracy: 0.5580\n",
      "Epoch 5/15\n",
      "492/492 [==============================] - 81s 164ms/step - loss: 0.6888 - accuracy: 0.5533 - val_loss: 0.6895 - val_accuracy: 0.5580\n",
      "Epoch 6/15\n",
      "492/492 [==============================] - 90s 182ms/step - loss: 0.6896 - accuracy: 0.5475 - val_loss: 0.6865 - val_accuracy: 0.5580\n",
      "Epoch 7/15\n",
      "492/492 [==============================] - 91s 185ms/step - loss: 0.6886 - accuracy: 0.5498 - val_loss: 0.6865 - val_accuracy: 0.5580\n",
      "Epoch 8/15\n",
      "492/492 [==============================] - 83s 168ms/step - loss: 0.6893 - accuracy: 0.5501 - val_loss: 0.6880 - val_accuracy: 0.5580\n",
      "Epoch 9/15\n",
      "492/492 [==============================] - 88s 178ms/step - loss: 0.6893 - accuracy: 0.5509 - val_loss: 0.6867 - val_accuracy: 0.5580\n",
      "Fold accuracy: 55.7985782623291%\n",
      "Epoch 1/15\n",
      "492/492 [==============================] - 88s 178ms/step - loss: 0.6885 - accuracy: 0.5512 - val_loss: 0.6867 - val_accuracy: 0.5580\n",
      "Epoch 2/15\n",
      "492/492 [==============================] - 84s 171ms/step - loss: 0.6898 - accuracy: 0.5526 - val_loss: 0.6875 - val_accuracy: 0.5580\n",
      "Epoch 3/15\n",
      "492/492 [==============================] - 90s 184ms/step - loss: 0.6890 - accuracy: 0.5530 - val_loss: 0.6866 - val_accuracy: 0.5580\n",
      "Epoch 4/15\n",
      "492/492 [==============================] - 78s 159ms/step - loss: 0.6885 - accuracy: 0.5525 - val_loss: 0.6864 - val_accuracy: 0.5580\n",
      "Epoch 5/15\n",
      "492/492 [==============================] - 92s 186ms/step - loss: 0.6897 - accuracy: 0.5509 - val_loss: 0.6864 - val_accuracy: 0.5580\n",
      "Epoch 6/15\n",
      "492/492 [==============================] - 90s 182ms/step - loss: 0.6891 - accuracy: 0.5499 - val_loss: 0.6871 - val_accuracy: 0.5580\n",
      "Epoch 7/15\n",
      "492/492 [==============================] - 78s 159ms/step - loss: 0.6890 - accuracy: 0.5497 - val_loss: 0.6864 - val_accuracy: 0.5580\n",
      "Epoch 8/15\n",
      "492/492 [==============================] - 88s 179ms/step - loss: 0.6888 - accuracy: 0.5523 - val_loss: 0.6865 - val_accuracy: 0.5580\n",
      "Fold accuracy: 55.7985782623291%\n",
      "Epoch 1/15\n",
      "492/492 [==============================] - 86s 175ms/step - loss: 0.6886 - accuracy: 0.5457 - val_loss: 0.6874 - val_accuracy: 0.5580\n",
      "Epoch 2/15\n",
      "492/492 [==============================] - 85s 172ms/step - loss: 0.6888 - accuracy: 0.5500 - val_loss: 0.6920 - val_accuracy: 0.5580\n",
      "Epoch 3/15\n",
      "492/492 [==============================] - 89s 180ms/step - loss: 0.6888 - accuracy: 0.5542 - val_loss: 0.6864 - val_accuracy: 0.5580\n",
      "Epoch 4/15\n",
      "492/492 [==============================] - 77s 157ms/step - loss: 0.6892 - accuracy: 0.5534 - val_loss: 0.6876 - val_accuracy: 0.5580\n",
      "Epoch 5/15\n",
      "492/492 [==============================] - 75s 153ms/step - loss: 0.6906 - accuracy: 0.5467 - val_loss: 0.6865 - val_accuracy: 0.5580\n",
      "Epoch 6/15\n",
      "492/492 [==============================] - 87s 177ms/step - loss: 0.6896 - accuracy: 0.5498 - val_loss: 0.6866 - val_accuracy: 0.5580\n",
      "Fold accuracy: 55.7985782623291%\n",
      "Mean accuracy: 55.78840494155884%\n",
      "Standard deviation: 0.012459722438401962%\n"
     ]
    }
   ],
   "source": [
    "from sklearn.model_selection import train_test_split, StratifiedKFold\n",
    "import numpy as np\n",
    "\n",
    "k = 5\n",
    "skf = StratifiedKFold(n_splits=k, shuffle=True, random_state=None)\n",
    "cvscores = []\n",
    "\n",
    "for train_index, val_index in skf.split(x_train, y_train):\n",
    "    x_fold_train, x_fold_val = x_train[train_index], x_train[val_index]\n",
    "    y_fold_train, y_fold_val = y_train[train_index], y_train[val_index]\n",
    "    \n",
    "    # Preprocess the data according to the model's input shape\n",
    "    if K.image_data_format() == 'channels_first':\n",
    "        x_fold_train = x_fold_train.reshape(x_fold_train.shape[0], 1, img_rows, img_cols)\n",
    "        x_fold_val = x_fold_val.reshape(x_fold_val.shape[0], 1, img_rows, img_cols)\n",
    "    else:\n",
    "        x_fold_train = x_fold_train.reshape(x_fold_train.shape[0], img_rows, img_cols, 1)\n",
    "        x_fold_val = x_fold_val.reshape(x_fold_val.shape[0], img_rows, img_cols, 1)\n",
    "    \n",
    "    x_fold_train = x_fold_train.astype('float32') / 255\n",
    "    x_fold_val = x_fold_val.astype('float32') / 255\n",
    "    \n",
    "    # Convert class vectors to binary class matrices\n",
    "    y_fold_train_encoded = label_encoder.transform(y_fold_train)\n",
    "    y_fold_val_encoded = label_encoder.transform(y_fold_val)\n",
    "    \n",
    "    y_fold_train = tensorflow.keras.utils.to_categorical(y_fold_train_encoded, num_classes)\n",
    "    y_fold_val = tensorflow.keras.utils.to_categorical(y_fold_val_encoded, num_classes)\n",
    "    \n",
    "    # Train the model\n",
    "    early_stopping = EarlyStopping(monitor='val_loss', patience=3)\n",
    "    \n",
    "    model.fit(x_fold_train, y_fold_train,\n",
    "              batch_size=batch_size,\n",
    "              epochs=epochs,\n",
    "              verbose=1,\n",
    "              validation_data=(x_fold_val, y_fold_val),\n",
    "              callbacks=[early_stopping])\n",
    "    \n",
    "    # Evaluate the model\n",
    "    scores = model.evaluate(x_fold_val, y_fold_val, verbose=0)\n",
    "    print(f\"Fold accuracy: {scores[1]*100}%\")\n",
    "    cvscores.append(scores[1] * 100)\n",
    "\n",
    "print(f\"Mean accuracy: {np.mean(cvscores)}%\")\n",
    "print(f\"Standard deviation: {np.std(cvscores)}%\")"
   ]
  },
  {
   "cell_type": "code",
   "execution_count": null,
   "id": "fcbefab3",
   "metadata": {},
   "outputs": [],
   "source": []
  },
  {
   "cell_type": "code",
   "execution_count": null,
   "id": "b70ea707",
   "metadata": {},
   "outputs": [],
   "source": []
  },
  {
   "cell_type": "code",
   "execution_count": null,
   "id": "c18e9347",
   "metadata": {},
   "outputs": [],
   "source": []
  },
  {
   "cell_type": "code",
   "execution_count": null,
   "id": "e70c7e06",
   "metadata": {},
   "outputs": [],
   "source": []
  },
  {
   "cell_type": "markdown",
   "id": "9627133e",
   "metadata": {},
   "source": [
    "# Parameter Combination"
   ]
  },
  {
   "cell_type": "code",
   "execution_count": 20,
   "id": "dca5cfec",
   "metadata": {},
   "outputs": [],
   "source": [
    "import numpy as np\n",
    "\n",
    "X = np.array(all_images)\n",
    "y = np.array(all_labels)"
   ]
  },
  {
   "cell_type": "code",
   "execution_count": 21,
   "id": "b42d749a",
   "metadata": {},
   "outputs": [
    {
     "data": {
      "text/plain": [
       "Malignant Masses    13710\n",
       "Benign Masses       10866\n",
       "Name: count, dtype: int64"
      ]
     },
     "execution_count": 21,
     "metadata": {},
     "output_type": "execute_result"
    }
   ],
   "source": [
    "import pandas as pd\n",
    "\n",
    "pd.Series(y).value_counts()"
   ]
  },
  {
   "cell_type": "code",
   "execution_count": 22,
   "id": "f758c88f",
   "metadata": {},
   "outputs": [],
   "source": [
    "from sklearn.model_selection import train_test_split\n",
    "\n",
    "x_train, x_test, y_train, y_test = train_test_split(X, y, random_state=42, test_size=0.2)"
   ]
  },
  {
   "cell_type": "code",
   "execution_count": 23,
   "id": "aaa7d958",
   "metadata": {},
   "outputs": [],
   "source": [
    "# Remove the channel dimension from x_train and x_test\n",
    "x_train = x_train[:, :, :, 0]  # Select only the first channel (or any other channel)\n",
    "x_test = x_test[:, :, :, 0]    # Select only the first channel (or any other channel)"
   ]
  },
  {
   "cell_type": "code",
   "execution_count": 24,
   "id": "4d7664d5",
   "metadata": {},
   "outputs": [
    {
     "name": "stdout",
     "output_type": "stream",
     "text": [
      "x_train shape: (19660, 64, 64, 1)\n",
      "Training samples: 19660\n",
      "Test samples: 4916\n"
     ]
    }
   ],
   "source": [
    "import tensorflow.keras\n",
    "from tensorflow.keras.datasets import mnist \n",
    "from tensorflow.keras.models import Sequential \n",
    "from tensorflow.keras.layers import Dense, Dropout, Flatten \n",
    "from tensorflow.keras.layers import Conv2D, MaxPooling2D \n",
    "from tensorflow.keras import backend as K\n",
    "batch_size = 32  # Ubah batch size menjadi 64\n",
    "num_classes = 10\n",
    "epochs = 15  # Ubah jumlah epoch menjadi 15\n",
    "# input image dimensions \n",
    "img_rows, img_cols = 64, 64\n",
    "if K.image_data_format() == 'channels_first':\n",
    "    x_train = x_train.reshape(x_train. shape[0], 1, img_rows, img_cols)\n",
    "    x_test = x_test.reshape(x_test.shape[0], 1, img_rows, img_cols)\n",
    "    input_shape = (1, img_rows, img_cols)\n",
    "else:\n",
    "    x_train = x_train.reshape(x_train.shape[0], img_rows, img_cols, 1)\n",
    "    x_test = x_test.reshape(x_test.shape[0], img_rows, img_cols, 1)\n",
    "    input_shape = (img_rows, img_cols, 1)\n",
    "x_train = x_train.astype('float32')\n",
    "x_test = x_test.astype('float32')\n",
    "# Normalize the data\n",
    "x_train /= 255\n",
    "x_test /= 255\n",
    "print ('x_train shape:', x_train.shape)\n",
    "print (\"Training samples: {}\".format(x_train.shape[0]))\n",
    "print (\"Test samples: {}\". format(x_test.shape[0]))"
   ]
  },
  {
   "cell_type": "code",
   "execution_count": 25,
   "id": "29d5fe57",
   "metadata": {},
   "outputs": [],
   "source": [
    "from sklearn.preprocessing import LabelEncoder\n",
    "# Encode class labels into integers\n",
    "label_encoder = LabelEncoder()\n",
    "y_train_encoded = label_encoder.fit_transform(y_train)\n",
    "y_test_encoded = label_encoder.transform(y_test)"
   ]
  },
  {
   "cell_type": "code",
   "execution_count": 26,
   "id": "232d85f4",
   "metadata": {},
   "outputs": [],
   "source": [
    "# Convert class vectors to binary class matrices\n",
    "y_train = tensorflow.keras.utils.to_categorical(y_train_encoded, num_classes)\n",
    "y_test = tensorflow.keras.utils.to_categorical(y_test_encoded, num_classes)\n",
    "model = Sequential()\n",
    "model.add(Conv2D (32, kernel_size=(3, 3),\n",
    "                  activation='sigmoid',  # Mengganti aktivasi menjadi Sigmoid\n",
    "                  input_shape=input_shape))\n",
    "model.add(Conv2D (64, (3, 3), activation='sigmoid'))  # Mengganti aktivasi menjadi Sigmoid\n",
    "model.add(MaxPooling2D (pool_size= (2, 2)))\n",
    "model.add(Dropout(0.25))\n",
    "model.add(Flatten())\n",
    "model.add(Dense(128, activation='sigmoid'))  # Mengganti aktivasi menjadi Sigmoid\n",
    "model.add(Dropout(0.5))\n",
    "model.add(Dense(num_classes, activation='softmax'))\n",
    "model.compile(loss='categorical_crossentropy', optimizer='adam',\n",
    "              metrics=['accuracy'])"
   ]
  },
  {
   "cell_type": "code",
   "execution_count": 27,
   "id": "21272d63",
   "metadata": {},
   "outputs": [
    {
     "name": "stdout",
     "output_type": "stream",
     "text": [
      "Epoch 1/15\n",
      "615/615 - 115s - loss: 0.7527 - accuracy: 0.5208 - val_loss: 0.6921 - val_accuracy: 0.5511 - 115s/epoch - 188ms/step\n",
      "Epoch 2/15\n",
      "615/615 - 97s - loss: 0.6905 - accuracy: 0.5516 - val_loss: 0.6904 - val_accuracy: 0.5511 - 97s/epoch - 158ms/step\n",
      "Epoch 3/15\n",
      "615/615 - 109s - loss: 0.6890 - accuracy: 0.5534 - val_loss: 0.6910 - val_accuracy: 0.5511 - 109s/epoch - 178ms/step\n",
      "Epoch 4/15\n",
      "615/615 - 110s - loss: 0.6905 - accuracy: 0.5480 - val_loss: 0.6881 - val_accuracy: 0.5511 - 110s/epoch - 179ms/step\n",
      "Epoch 5/15\n",
      "615/615 - 110s - loss: 0.6884 - accuracy: 0.5534 - val_loss: 0.6953 - val_accuracy: 0.5511 - 110s/epoch - 178ms/step\n",
      "Epoch 6/15\n",
      "615/615 - 98s - loss: 0.6895 - accuracy: 0.5519 - val_loss: 0.6880 - val_accuracy: 0.5511 - 98s/epoch - 159ms/step\n",
      "Epoch 7/15\n",
      "615/615 - 111s - loss: 0.6884 - accuracy: 0.5541 - val_loss: 0.6914 - val_accuracy: 0.5511 - 111s/epoch - 180ms/step\n",
      "Epoch 8/15\n",
      "615/615 - 108s - loss: 0.6895 - accuracy: 0.5512 - val_loss: 0.6881 - val_accuracy: 0.5511 - 108s/epoch - 176ms/step\n",
      "Epoch 9/15\n",
      "615/615 - 96s - loss: 0.6882 - accuracy: 0.5539 - val_loss: 0.6882 - val_accuracy: 0.5511 - 96s/epoch - 156ms/step\n",
      "Epoch 10/15\n",
      "615/615 - 108s - loss: 0.6893 - accuracy: 0.5506 - val_loss: 0.6882 - val_accuracy: 0.5511 - 108s/epoch - 176ms/step\n",
      "Epoch 11/15\n",
      "615/615 - 98s - loss: 0.6893 - accuracy: 0.5529 - val_loss: 0.6890 - val_accuracy: 0.5511 - 98s/epoch - 160ms/step\n",
      "Epoch 12/15\n",
      "615/615 - 108s - loss: 0.6903 - accuracy: 0.5491 - val_loss: 0.6879 - val_accuracy: 0.5511 - 108s/epoch - 176ms/step\n",
      "Epoch 13/15\n",
      "615/615 - 107s - loss: 0.6889 - accuracy: 0.5511 - val_loss: 0.6949 - val_accuracy: 0.5511 - 107s/epoch - 174ms/step\n",
      "Epoch 14/15\n",
      "615/615 - 95s - loss: 0.6891 - accuracy: 0.5525 - val_loss: 0.6880 - val_accuracy: 0.5511 - 95s/epoch - 154ms/step\n",
      "Epoch 15/15\n",
      "615/615 - 108s - loss: 0.6895 - accuracy: 0.5543 - val_loss: 0.6915 - val_accuracy: 0.5511 - 108s/epoch - 176ms/step\n",
      "Test loss: 0.6915410757064819\n",
      "Test accuracy: 0.551057755947113\n",
      "Elapsed time: {} 1586.063802242279\n"
     ]
    }
   ],
   "source": [
    "import tensorflow as tf\n",
    "import time\n",
    "\n",
    "start_time = time.time()\n",
    "\n",
    "model.fit(x_train, y_train,\n",
    "          batch_size=batch_size,\n",
    "          epochs=epochs,\n",
    "          verbose=2,\n",
    "          validation_data=(x_test, y_test))\n",
    "score = model.evaluate(x_test, y_test, verbose=0)\n",
    "print('Test loss: {}'.format(score[0]))\n",
    "print('Test accuracy: {}'.format(score[1]))\n",
    "\n",
    "elapsed_time = time.time() - start_time\n",
    "print(\"Elapsed time: {}\", elapsed_time)"
   ]
  },
  {
   "cell_type": "code",
   "execution_count": 28,
   "id": "5e17935c",
   "metadata": {},
   "outputs": [
    {
     "name": "stdout",
     "output_type": "stream",
     "text": [
      "Test loss: 0.6915410757064819\n",
      "Test accuracy: 0.551057755947113\n"
     ]
    }
   ],
   "source": [
    "# Set the desired TensorFlow output level\n",
    "score = model.evaluate(x_test, y_test, verbose=0)\n",
    "print('Test loss: {}'.format(score[0]))\n",
    "print('Test accuracy: {}'.format(score[1]))"
   ]
  },
  {
   "cell_type": "code",
   "execution_count": 29,
   "id": "0f6959f9",
   "metadata": {},
   "outputs": [
    {
     "name": "stdout",
     "output_type": "stream",
     "text": [
      "4/4 [==============================] - 0s 33ms/step\n",
      "Accuracy: 0.5454545454545454\n"
     ]
    }
   ],
   "source": [
    "from sklearn import metrics\n",
    "\n",
    "small_x = x_test[1:100]\n",
    "small_y = y_test[1:100]\n",
    "small_y2 = np.argmax(small_y,axis=1)\n",
    "pred = model.predict(small_x)\n",
    "pred = np.argmax(pred,axis=1)\n",
    "score = metrics.accuracy_score(small_y2, pred)\n",
    "print('Accuracy: {}'.format(score))"
   ]
  }
 ],
 "metadata": {
  "kernelspec": {
   "display_name": "Python 3 (ipykernel)",
   "language": "python",
   "name": "python3"
  },
  "language_info": {
   "codemirror_mode": {
    "name": "ipython",
    "version": 3
   },
   "file_extension": ".py",
   "mimetype": "text/x-python",
   "name": "python",
   "nbconvert_exporter": "python",
   "pygments_lexer": "ipython3",
   "version": "3.11.5"
  }
 },
 "nbformat": 4,
 "nbformat_minor": 5
}
